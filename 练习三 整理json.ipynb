{
 "cells": [
  {
   "cell_type": "code",
   "execution_count": 58,
   "metadata": {
    "collapsed": false,
    "deletable": true,
    "editable": true
   },
   "outputs": [],
   "source": [
    "import json\n",
    "import codecs\n",
    "import requests\n",
    "\n",
    "URL_MAIN = \"http://api.nytimes.com/svc/\"\n",
    "URL_POPULAR = URL_MAIN + \"mostpopular/v2/\"\n",
    "API_KEY = { \"popular\": \"cc1879752f4c1ea1e53bf8317c18b7fa:15:70221872\",\n",
    "            \"article\": \"17b3f581e9a519e843cae5197f3ae819:18:70221872\"}\n",
    "\n",
    "\n",
    "def get_from_file(kind, period):\n",
    "    filename = \"popular-{0}-{1}.json\".format(kind, period)\n",
    "    with open(filename, \"r\") as f:\n",
    "        return json.loads(f.read())\n",
    "\n",
    "\n",
    "def article_overview(kind, period):\n",
    "    data = get_from_file(kind, period)\n",
    "    titles = []\n",
    "    urls =[]\n",
    "\n",
    "    for article in data:\n",
    "        section = article[\"section\"]\n",
    "        title = article[\"title\"]\n",
    "        titles.append({section: title})\n",
    "        if \"media\" in article:\n",
    "            for m in article[\"media\"]:\n",
    "                for mm in m[\"media-metadata\"]:\n",
    "                    if mm[\"format\"] == \"Standard Thumbnail\":\n",
    "                        urls.append(mm[\"url\"])\n",
    "    return (titles, urls)\n",
    "\n",
    "\n",
    "def query_site(url, target, offset):\n",
    "    # This will set up the query with the API key and offset\n",
    "    # Web services often use offset paramter to return data in small chunks\n",
    "    # NYTimes returns 20 articles per request, if you want the next 20\n",
    "    # You have to provide the offset parameter\n",
    "    if API_KEY[\"popular\"] == \"\" or API_KEY[\"article\"] == \"\":\n",
    "        print \"You need to register for NYTimes Developer account to run this program.\"\n",
    "        print \"See Intructor notes for information\"\n",
    "        return False\n",
    "    params = {\"api-key\": API_KEY[target], \"offset\": offset}\n",
    "    r = requests.get(url, params = params)\n",
    "\n",
    "    if r.status_code == requests.codes.ok:\n",
    "        return r.json()\n",
    "    else:\n",
    "        r.raise_for_status()\n",
    "\n",
    "\n",
    "def get_popular(url, kind, days, section=\"all-sections\", offset=0):\n",
    "    # This function will construct the query according to the requirements of the site\n",
    "    # and return the data, or print an error message if called incorrectly\n",
    "    if days not in [1,7,30]:\n",
    "        print \"Time period can be 1,7, 30 days only\"\n",
    "        return False\n",
    "    if kind not in [\"viewed\", \"shared\", \"emailed\"]:\n",
    "        print \"kind can be only one of viewed/shared/emailed\"\n",
    "        return False\n",
    "\n",
    "    url = URL_POPULAR + \"most{0}/{1}/{2}.json\".format(kind, section, days)\n",
    "    data = query_site(url, \"popular\", offset)\n",
    "\n",
    "    return data\n",
    "\n",
    "\n",
    "def save_file(kind, period):\n",
    "    # This will process all results, by calling the API repeatedly with supplied offset value,\n",
    "    # combine the data and then write all results in a file.\n",
    "    data = get_popular(URL_POPULAR, \"viewed\", 1)\n",
    "    num_results = data[\"num_results\"]\n",
    "    full_data = []\n",
    "    with codecs.open(\"popular-{0}-{1}-full.json\".format(kind, period), encoding='utf-8', mode='w') as v:\n",
    "        for offset in range(0, num_results, 20):        \n",
    "            data = get_popular(URL_POPULAR, kind, period, offset=offset)\n",
    "            full_data += data[\"results\"]\n",
    "        \n",
    "        v.write(json.dumps(full_data, indent=2))\n",
    "\n",
    "\n",
    "def test():\n",
    "    titles, urls = article_overview(\"viewed\", 1)\n",
    "    assert len(titles) == 20\n",
    "    assert len(urls) == 30\n",
    "    assert titles[2] == {'Opinion': 'Professors, We Need You!'}\n",
    "    assert urls[20] == 'http://graphics8.nytimes.com/images/2014/02/17/sports/ICEDANCE/ICEDANCE-thumbStandard.jpg'\n",
    "\n",
    "\n",
    "if __name__ == \"__main__\":\n",
    "    test()"
   ]
  },
  {
   "cell_type": "code",
   "execution_count": null,
   "metadata": {
    "collapsed": true
   },
   "outputs": [],
   "source": []
  },
  {
   "cell_type": "markdown",
   "metadata": {
    "collapsed": true,
    "deletable": true,
    "editable": true
   },
   "source": [
    "get_from_file和article_overview函数是从popular-viewed-1.json、\n",
    "文件中提取出文件"
   ]
  },
  {
   "cell_type": "markdown",
   "metadata": {},
   "source": [
    "query_siteget_popular、save_file这三个函数是从网站中提取出\\\n",
    "popular-viewed-1.json文件"
   ]
  },
  {
   "cell_type": "code",
   "execution_count": null,
   "metadata": {
    "collapsed": true
   },
   "outputs": [],
   "source": []
  },
  {
   "cell_type": "code",
   "execution_count": 1,
   "metadata": {
    "collapsed": true
   },
   "outputs": [],
   "source": [
    "import json\n",
    "import codecs\n",
    "import requests\n",
    "\n",
    "URL_MAIN = \"http://api.nytimes.com/svc/\"\n",
    "URL_POPULAR = URL_MAIN + \"mostpopular/v2/\"\n",
    "API_KEY = { \"popular\": \"cc1879752f4c1ea1e53bf8317c18b7fa:15:70221872\",\n",
    "            \"article\": \"17b3f581e9a519e843cae5197f3ae819:18:70221872\"}\n"
   ]
  },
  {
   "cell_type": "code",
   "execution_count": 59,
   "metadata": {
    "collapsed": true
   },
   "outputs": [],
   "source": [
    "def get_from_file(kind, period):\n",
    "    filename = \"popular-{0}-{1}.json\".format(kind, period)\n",
    "    print filename\n",
    "    #打开popular-viewed-1.json文件 电脑中要有这个文件 路径还要对\n",
    "    with open(filename, \"r\") as f:\n",
    "        #json.loads 函数把json格式转换成python 格式\n",
    "        return json.loads(f.read())\n",
    "    \n",
    "\n",
    "\n",
    "def article_overview(kind, period):\n",
    "    data = get_from_file(kind, period)\n",
    "    titles = []\n",
    "    urls =[]\n",
    "\n",
    "    for article in data:\n",
    "        section = article[\"section\"]\n",
    "        title = article[\"title\"]\n",
    "        titles.append({section: title})\n",
    "        if \"media\" in article:\n",
    "            for m in article[\"media\"]:\n",
    "                for mm in m[\"media-metadata\"]:\n",
    "                    if mm[\"format\"] == \"Standard Thumbnail\":\n",
    "                        urls.append(mm[\"url\"])\n",
    "    return (titles, urls)"
   ]
  },
  {
   "cell_type": "code",
   "execution_count": null,
   "metadata": {
    "collapsed": false
   },
   "outputs": [],
   "source": []
  },
  {
   "cell_type": "code",
   "execution_count": 60,
   "metadata": {
    "collapsed": false
   },
   "outputs": [
    {
     "name": "stdout",
     "output_type": "stream",
     "text": [
      "popular-viewed-1.json\n"
     ]
    },
    {
     "data": {
      "text/plain": [
       "([{u'Opinion': u'The All-or-Nothing Marriage'},\n",
       "  {u'Opinion': u'Marry First, Then Cheat'},\n",
       "  {u'Opinion': u'Professors, We Need You!'},\n",
       "  {u'N.Y. / Region': u'Common Core Curriculum Now Has Critics on the Left'},\n",
       "  {u'Fashion & Style': u'For Interns, All Work and No Payoff'},\n",
       "  {u'Sports': u'NBC Pushes Too Far in Bringing Bode Miller to Tears'},\n",
       "  {u'Opinion': u'Barons of Broadband'},\n",
       "  {u'Sports': u'A Mad Dash for Salt Rescues Olympic Slopes'},\n",
       "  {u'U.S.': u'Spying by N.S.A. Ally Entangled U.S. Law Firm'},\n",
       "  {u'N.Y. / Region': u'Addicted on Staten Island'},\n",
       "  {u'Business Day': u'Saving an Endangered British Species: The Pub'},\n",
       "  {u'Sports': u'Behind Meryl Davis and Charlie White, U.S. Is Close to Its First Ice Dance Gold'},\n",
       "  {u'Technology': u'Intel\\u2019s Sharp-Eyed Social Scientist'},\n",
       "  {u'Sports': u'Hanyu Falls Twice, but Still Wins Gold'},\n",
       "  {u'Opinion': u'Is the Universe a Simulation?'},\n",
       "  {u'Opinion': u'Parental Pity Party'},\n",
       "  {u'Opinion': u'Behind Bars'},\n",
       "  {u'Opinion': u'A Watchful Eye in Hospitals'},\n",
       "  {u'Movies': u'The Greatest Film Role Ever Cast'},\n",
       "  {u'Business Day': u'Comcast vs. the Cord Cutters'}],\n",
       " [u'http://graphics8.nytimes.com/images/2014/02/16/sunday-review/16COVER/16COVER-thumbStandard.jpg',\n",
       "  u'http://graphics8.nytimes.com/images/2014/02/16/sunday-review/16MARRIAGEJP/16MARRIAGEJP-thumbStandard.jpg',\n",
       "  u'http://graphics8.nytimes.com/images/2014/02/16/sunday-review/16DOWD/16DOWD-thumbStandard.jpg',\n",
       "  u'http://graphics8.nytimes.com/images/2010/09/16/opinion/Dowd_New/Dowd_New-thumbStandard.jpg',\n",
       "  u'http://graphics8.nytimes.com/images/2010/09/16/opinion/Kristof_New/Kristof_New-thumbStandard-v4.jpg',\n",
       "  u'http://graphics8.nytimes.com/images/2014/02/17/nyregion/commoncore/commoncore-thumbStandard-v2.jpg',\n",
       "  u'http://graphics8.nytimes.com/images/2014/02/17/nyregion/JP-COMMONCORE1/JP-COMMONCORE1-thumbStandard.jpg',\n",
       "  u'http://graphics8.nytimes.com/images/2014/02/17/nyregion/JP-COMMONCORE2/JP-COMMONCORE2-thumbStandard.jpg',\n",
       "  u'http://graphics8.nytimes.com/images/2014/02/16/fashion/16INTERNS_SPAN/16INTERNS_SPAN-thumbStandard.jpg',\n",
       "  u'http://graphics8.nytimes.com/images/2014/02/16/fashion/16JPINTERNS1/16jpinterns1-thumbStandard.jpg',\n",
       "  u'http://graphics8.nytimes.com/images/2014/02/16/fashion/16JPINTERNS2/16JPINTERNS2-thumbStandard-v2.jpg',\n",
       "  u'http://graphics8.nytimes.com/images/2014/02/16/fashion/16JPINTERNS3/16JPINTERNS3-thumbStandard.jpg',\n",
       "  u'http://graphics8.nytimes.com/images/2010/09/16/opinion/Krugman_New/Krugman_New-thumbStandard-v2.jpg',\n",
       "  u'http://graphics8.nytimes.com/images/2014/02/17/sports/17salt1/17salt1-thumbStandard.jpg',\n",
       "  u'http://graphics8.nytimes.com/images/2014/02/17/sports/17salt-2/17salt-2-thumbStandard.jpg',\n",
       "  u'http://graphics8.nytimes.com/images/2014/02/17/sports/17salt-1/17salt-1-thumbStandard.jpg',\n",
       "  u'http://graphics8.nytimes.com/images/2014/02/16/us/jpNSA1/jpNSA1-thumbStandard-v3.jpg',\n",
       "  u'http://graphics8.nytimes.com/images/2014/02/16/us/jpNSA2/jpNSA2-thumbStandard-v2.jpg',\n",
       "  u'http://graphics8.nytimes.com/images/2014/02/16/nyregion/16BIGCITY_SPAN/16BIGCITY_SPAN-thumbStandard-v2.jpg',\n",
       "  u'http://graphics8.nytimes.com/images/2014/02/17/business/pubs/pubs-thumbStandard.jpg',\n",
       "  u'http://graphics8.nytimes.com/images/2014/02/17/sports/ICEDANCE/ICEDANCE-thumbStandard.jpg',\n",
       "  u'http://graphics8.nytimes.com/images/2014/02/16/technology/16bell-personal-billboard/16bell-personal-billboard-thumbStandard.jpg',\n",
       "  u'http://graphics8.nytimes.com/images/2014/02/14/sports/olympics/mens-figure-skating-1392420419784/mens-figure-skating-1392420419784-thumbStandard.jpg',\n",
       "  u'http://graphics8.nytimes.com/images/2014/02/16/sunday-review/16GRAY/16GRAY-thumbStandard.jpg',\n",
       "  u'http://graphics8.nytimes.com/images/2010/09/16/opinion/Douthat_New/Douthat_New-thumbStandard.jpg',\n",
       "  u'http://graphics8.nytimes.com/images/2014/02/16/opinion/sunday/20140216_SCHOTTBARWORDS-1392239127937/20140216_SCHOTTBARWORDS-1392239127937-thumbStandard.jpg',\n",
       "  u'http://graphics8.nytimes.com/images/2014/02/17/opinion/0217OPEDwebb/0217OPEDwebb-thumbStandard.jpg',\n",
       "  u'http://graphics8.nytimes.com/images/2014/02/16/arts/16MOVIEJESUS2/16MOVIEJESUS2-thumbStandard-v2.jpg',\n",
       "  u'http://graphics8.nytimes.com/images/2014/02/16/arts/16MOVIEJESUS1COMBO_SPAN/16MOVIEJESUS1-thumbStandard.jpg',\n",
       "  u'http://graphics8.nytimes.com/images/2014/02/16/business/16-CONSUMER/16-CONSUMER-thumbStandard-v2.jpg'])"
      ]
     },
     "execution_count": 60,
     "metadata": {},
     "output_type": "execute_result"
    }
   ],
   "source": [
    "\n",
    "article_overview(\"viewed\", 1)"
   ]
  },
  {
   "cell_type": "code",
   "execution_count": 61,
   "metadata": {
    "collapsed": false
   },
   "outputs": [
    {
     "name": "stdout",
     "output_type": "stream",
     "text": [
      "popular-viewed-1.json\n"
     ]
    },
    {
     "data": {
      "text/plain": [
       "({u'Opinion': u'Professors, We Need You!'},\n",
       " u'http://graphics8.nytimes.com/images/2014/02/17/sports/ICEDANCE/ICEDANCE-thumbStandard.jpg',\n",
       " 20,\n",
       " 30)"
      ]
     },
     "execution_count": 61,
     "metadata": {},
     "output_type": "execute_result"
    }
   ],
   "source": [
    "\n",
    "def article_overvie(kind, period):\n",
    "    data = get_from_file(kind, period)\n",
    "    titles = []\n",
    "    urls =[]\n",
    "\n",
    "    for article in data:\n",
    "        section = article[\"section\"]\n",
    "        title = article[\"title\"]\n",
    "        titles.append({section: title})\n",
    "        if \"media\" in article:\n",
    "            for m in article[\"media\"]:\n",
    "                for mm in m[\"media-metadata\"]:\n",
    "                    if mm[\"format\"] == \"Standard Thumbnail\":\n",
    "                        urls.append(mm[\"url\"])\n",
    "    return titles[2]\\\n",
    "\\\n",
    ",urls[20]\\\n",
    ",len(titles)\\\n",
    ",len(urls)\n",
    "\n",
    "\n",
    "article_overvie(\"viewed\", 1)"
   ]
  },
  {
   "cell_type": "code",
   "execution_count": null,
   "metadata": {
    "collapsed": true
   },
   "outputs": [],
   "source": [
    "#从popular-viewed-1.json文件提取数据可以了\n",
    "#第二步是试着从网站中提取出popular-viewed-1.json文件\n"
   ]
  },
  {
   "cell_type": "code",
   "execution_count": null,
   "metadata": {
    "collapsed": true
   },
   "outputs": [],
   "source": []
  },
  {
   "cell_type": "code",
   "execution_count": null,
   "metadata": {
    "collapsed": true
   },
   "outputs": [],
   "source": []
  }
 ],
 "metadata": {
  "kernelspec": {
   "display_name": "Python 2",
   "language": "python",
   "name": "python2"
  },
  "language_info": {
   "codemirror_mode": {
    "name": "ipython",
    "version": 2
   },
   "file_extension": ".py",
   "mimetype": "text/x-python",
   "name": "python",
   "nbconvert_exporter": "python",
   "pygments_lexer": "ipython2",
   "version": "2.7.13"
  }
 },
 "nbformat": 4,
 "nbformat_minor": 2
}
